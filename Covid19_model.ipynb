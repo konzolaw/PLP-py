{
  "cells": [
    {
      "cell_type": "markdown",
      "id": "41bb6153",
      "metadata": {
        "id": "41bb6153",
        "papermill": {
          "duration": 0.007226,
          "end_time": "2024-11-30T03:21:49.899183",
          "exception": false,
          "start_time": "2024-11-30T03:21:49.891957",
          "status": "completed"
        },
        "tags": []
      },
      "source": [
        "COVID 19 Data analysis and ML model"
      ]
    },
    {
      "cell_type": "markdown",
      "source": [
        "By :Konzolo iyke\n"
      ],
      "metadata": {
        "id": "IB_CCudY0WPX"
      },
      "id": "IB_CCudY0WPX"
    },
    {
      "cell_type": "markdown",
      "id": "81955ad0",
      "metadata": {
        "id": "81955ad0",
        "papermill": {
          "duration": 0.005766,
          "end_time": "2024-11-30T03:21:49.911456",
          "exception": false,
          "start_time": "2024-11-30T03:21:49.905690",
          "status": "completed"
        },
        "tags": []
      },
      "source": [
        "\n",
        "\n",
        "\n",
        "\n",
        "---\n",
        "\n",
        "\n"
      ]
    },
    {
      "cell_type": "markdown",
      "id": "cc7215c0",
      "metadata": {
        "id": "cc7215c0",
        "papermill": {
          "duration": 0.005805,
          "end_time": "2024-11-30T03:21:49.923323",
          "exception": false,
          "start_time": "2024-11-30T03:21:49.917518",
          "status": "completed"
        },
        "tags": []
      },
      "source": [
        "# **Importations**"
      ]
    },
    {
      "cell_type": "code",
      "execution_count": 3,
      "id": "01244142",
      "metadata": {
        "execution": {
          "iopub.execute_input": "2024-11-30T03:21:49.936939Z",
          "iopub.status.busy": "2024-11-30T03:21:49.936497Z",
          "iopub.status.idle": "2024-11-30T03:21:52.826782Z",
          "shell.execute_reply": "2024-11-30T03:21:52.825789Z"
        },
        "id": "01244142",
        "papermill": {
          "duration": 2.899857,
          "end_time": "2024-11-30T03:21:52.829171",
          "exception": false,
          "start_time": "2024-11-30T03:21:49.929314",
          "status": "completed"
        },
        "tags": []
      },
      "outputs": [],
      "source": [
        "import pandas as pd\n",
        "\n",
        "import seaborn as sns\n",
        "\n",
        "import matplotlib.pyplot as plt\n",
        "\n",
        "from sklearn.impute import KNNImputer\n",
        "\n",
        "from sklearn.linear_model import LinearRegression\n",
        "\n",
        "from sklearn.model_selection import train_test_split\n",
        "\n",
        "from sklearn.preprocessing import StandardScaler\n",
        "\n",
        "from sklearn.preprocessing import LabelEncoder\n",
        "\n",
        "from sklearn.metrics import mean_squared_error, r2_score\n",
        "\n",
        "from sklearn.preprocessing import OneHotEncoder"
      ]
    },
    {
      "cell_type": "markdown",
      "id": "3760e535",
      "metadata": {
        "id": "3760e535",
        "papermill": {
          "duration": 0.006201,
          "end_time": "2024-11-30T03:21:52.842900",
          "exception": false,
          "start_time": "2024-11-30T03:21:52.836699",
          "status": "completed"
        },
        "tags": []
      },
      "source": [
        "# **Loading datasets**"
      ]
    },
    {
      "cell_type": "code",
      "execution_count": 4,
      "id": "8cef8c31",
      "metadata": {
        "execution": {
          "iopub.execute_input": "2024-11-30T03:21:52.856632Z",
          "iopub.status.busy": "2024-11-30T03:21:52.856093Z",
          "iopub.status.idle": "2024-11-30T03:21:55.493986Z",
          "shell.execute_reply": "2024-11-30T03:21:55.492894Z"
        },
        "id": "8cef8c31",
        "papermill": {
          "duration": 2.647808,
          "end_time": "2024-11-30T03:21:55.496612",
          "exception": false,
          "start_time": "2024-11-30T03:21:52.848804",
          "status": "completed"
        },
        "scrolled": true,
        "tags": []
      },
      "outputs": [],
      "source": [
        "country_wise_latest = pd.read_csv('/content/drive/MyDrive/archive/country_wise_latest.csv')\n",
        "\n",
        "covid_19_clean_complete = pd.read_csv('/content/drive/MyDrive/archive/covid_19_clean_complete.csv')\n",
        "\n",
        "day_wise = pd.read_csv('/content/drive/MyDrive/archive/day_wise.csv')\n",
        "\n",
        "full_grouped = pd.read_csv('/content/drive/MyDrive/archive/full_grouped.csv')\n",
        "\n",
        "usa_county_wise = pd.read_csv('/content/drive/MyDrive/archive/usa_county_wise.csv')\n",
        "\n",
        "worldometer_data = pd.read_csv('/content/drive/MyDrive/archive/worldometer_data.csv')"
      ]
    },
    {
      "cell_type": "code",
      "source": [
        "from google.colab import drive\n",
        "drive.mount('/content/drive/MyDrive/archive')"
      ],
      "metadata": {
        "id": "uRE7ya6UFXp-",
        "colab": {
          "base_uri": "https://localhost:8080/"
        },
        "outputId": "1b61118d-5b32-4c5e-fcda-c1bf1f88547c"
      },
      "id": "uRE7ya6UFXp-",
      "execution_count": 1,
      "outputs": [
        {
          "output_type": "stream",
          "name": "stdout",
          "text": [
            "Mounted at /content/drive\n"
          ]
        }
      ]
    },
    {
      "cell_type": "markdown",
      "id": "53ae7f49",
      "metadata": {
        "id": "53ae7f49",
        "papermill": {
          "duration": 0.007788,
          "end_time": "2024-11-30T03:21:55.512013",
          "exception": false,
          "start_time": "2024-11-30T03:21:55.504225",
          "status": "completed"
        },
        "tags": []
      },
      "source": [
        "\n",
        "\n",
        "\n",
        "\n",
        "---\n",
        "\n",
        "\n"
      ]
    },
    {
      "cell_type": "markdown",
      "id": "596bc61b",
      "metadata": {
        "id": "596bc61b",
        "papermill": {
          "duration": 0.007937,
          "end_time": "2024-11-30T03:21:55.529165",
          "exception": false,
          "start_time": "2024-11-30T03:21:55.521228",
          "status": "completed"
        },
        "tags": []
      },
      "source": [
        "#1. **Preprocessing**"
      ]
    },
    {
      "cell_type": "markdown",
      "id": "0ae4a056",
      "metadata": {
        "id": "0ae4a056",
        "papermill": {
          "duration": 0.006145,
          "end_time": "2024-11-30T03:21:55.541424",
          "exception": false,
          "start_time": "2024-11-30T03:21:55.535279",
          "status": "completed"
        },
        "tags": []
      },
      "source": [
        "# **Check for missing values**"
      ]
    },
    {
      "cell_type": "code",
      "execution_count": 5,
      "id": "88030476",
      "metadata": {
        "execution": {
          "iopub.execute_input": "2024-11-30T03:21:55.555193Z",
          "iopub.status.busy": "2024-11-30T03:21:55.554820Z",
          "iopub.status.idle": "2024-11-30T03:21:55.863564Z",
          "shell.execute_reply": "2024-11-30T03:21:55.862268Z"
        },
        "id": "88030476",
        "outputId": "bb7521c0-361b-4100-a923-53d8f730ec9c",
        "papermill": {
          "duration": 0.318608,
          "end_time": "2024-11-30T03:21:55.866114",
          "exception": false,
          "start_time": "2024-11-30T03:21:55.547506",
          "status": "completed"
        },
        "tags": [],
        "colab": {
          "base_uri": "https://localhost:8080/"
        }
      },
      "outputs": [
        {
          "output_type": "stream",
          "name": "stdout",
          "text": [
            "missing values in country_wise_latest:\n",
            "Country/Region            0\n",
            "Confirmed                 0\n",
            "Deaths                    0\n",
            "Recovered                 0\n",
            "Active                    0\n",
            "New cases                 0\n",
            "New deaths                0\n",
            "New recovered             0\n",
            "Deaths / 100 Cases        0\n",
            "Recovered / 100 Cases     0\n",
            "Deaths / 100 Recovered    0\n",
            "Confirmed last week       0\n",
            "1 week change             0\n",
            "1 week % increase         0\n",
            "WHO Region                0\n",
            "dtype: int64 \n",
            "\n",
            "missing values in covid_19_clean_complete:\n",
            "Province/State    34404\n",
            "Country/Region        0\n",
            "Lat                   0\n",
            "Long                  0\n",
            "Date                  0\n",
            "Confirmed             0\n",
            "Deaths                0\n",
            "Recovered             0\n",
            "Active                0\n",
            "WHO Region            0\n",
            "dtype: int64 \n",
            "\n",
            "missing values in day_wise:\n",
            "Date                      0\n",
            "Confirmed                 0\n",
            "Deaths                    0\n",
            "Recovered                 0\n",
            "Active                    0\n",
            "New cases                 0\n",
            "New deaths                0\n",
            "New recovered             0\n",
            "Deaths / 100 Cases        0\n",
            "Recovered / 100 Cases     0\n",
            "Deaths / 100 Recovered    0\n",
            "No. of countries          0\n",
            "dtype: int64 \n",
            "\n",
            "missing values in full_grouped:\n",
            "Date              0\n",
            "Country/Region    0\n",
            "Confirmed         0\n",
            "Deaths            0\n",
            "Recovered         0\n",
            "Active            0\n",
            "New cases         0\n",
            "New deaths        0\n",
            "New recovered     0\n",
            "WHO Region        0\n",
            "dtype: int64 \n",
            "\n",
            "missing values in usa_county_wise:\n",
            "UID                  0\n",
            "iso2                 0\n",
            "iso3                 0\n",
            "code3                0\n",
            "FIPS              1880\n",
            "Admin2            1128\n",
            "Province_State       0\n",
            "Country_Region       0\n",
            "Lat                  0\n",
            "Long_                0\n",
            "Combined_Key         0\n",
            "Date                 0\n",
            "Confirmed            0\n",
            "Deaths               0\n",
            "dtype: int64 \n",
            "\n",
            "missing values in worldometer_data:\n",
            "Country/Region        0\n",
            "Continent             1\n",
            "Population            1\n",
            "TotalCases            0\n",
            "NewCases            205\n",
            "TotalDeaths          21\n",
            "NewDeaths           206\n",
            "TotalRecovered        4\n",
            "NewRecovered        206\n",
            "ActiveCases           4\n",
            "Serious,Critical     87\n",
            "Tot Cases/1M pop      1\n",
            "Deaths/1M pop        22\n",
            "TotalTests           18\n",
            "Tests/1M pop         18\n",
            "WHO Region           25\n",
            "dtype: int64 \n",
            "\n"
          ]
        }
      ],
      "source": [
        "print(\"missing values in country_wise_latest:\")\n",
        "\n",
        "print(country_wise_latest.isnull().sum(), \"\\n\")\n",
        "\n",
        "\n",
        "\n",
        "print(\"missing values in covid_19_clean_complete:\")\n",
        "\n",
        "print(covid_19_clean_complete.isnull().sum(), \"\\n\")\n",
        "\n",
        "\n",
        "\n",
        "print(\"missing values in day_wise:\")\n",
        "\n",
        "print(day_wise.isnull().sum(), \"\\n\")\n",
        "\n",
        "\n",
        "\n",
        "print(\"missing values in full_grouped:\")\n",
        "\n",
        "print(full_grouped.isnull().sum(), \"\\n\")\n",
        "\n",
        "\n",
        "\n",
        "print(\"missing values in usa_county_wise:\")\n",
        "\n",
        "print(usa_county_wise.isnull().sum(), \"\\n\")\n",
        "\n",
        "\n",
        "\n",
        "print(\"missing values in worldometer_data:\")\n",
        "\n",
        "print(worldometer_data.isnull().sum(), \"\\n\")"
      ]
    },
    {
      "cell_type": "markdown",
      "id": "0344617b",
      "metadata": {
        "id": "0344617b",
        "papermill": {
          "duration": 0.006214,
          "end_time": "2024-11-30T03:21:55.879077",
          "exception": false,
          "start_time": "2024-11-30T03:21:55.872863",
          "status": "completed"
        },
        "tags": []
      },
      "source": [
        "# Data Cleaning and Imputation Process"
      ]
    },
    {
      "cell_type": "markdown",
      "id": "41d7264f",
      "metadata": {
        "id": "41d7264f",
        "papermill": {
          "duration": 0.006052,
          "end_time": "2024-11-30T03:21:55.891525",
          "exception": false,
          "start_time": "2024-11-30T03:21:55.885473",
          "status": "completed"
        },
        "tags": []
      },
      "source": [
        "This section of the notebook performs data preprocessing and missing value imputation on three COVID-19 datasets: `covid_19_clean_complete`, `usa_county_wise`, and `worldometer_data`. The goal is to handle missing values through different imputation strategies, including the use of KNN imputation, forward filling, and replacing with the mode or median.\n",
        "\n",
        "\n",
        "\n",
        "### 1. `covid_19_clean_complete`:\n",
        "\n",
        "- **Province/State**: Missing values are imputed with the mode of each `Country/Region`.\n",
        "\n",
        "- **Confirmed, Deaths, Recovered, Active**: Missing values are imputed using KNN imputation (with 5 neighbors).\n",
        "\n",
        "- **WHO Region**: Missing values are forward-filled based on `Country/Region`.\n",
        "\n",
        "\n",
        "\n",
        "### 2. `usa_county_wise`:\n",
        "\n",
        "- **Admin2**: Missing values are imputed with the mode of each `Province_State`.\n",
        "\n",
        "- **FIPS**: Rows with missing `FIPS` values are dropped, as they are critical for identification.\n",
        "\n",
        "\n",
        "\n",
        "### 3. `worldometer_data`:\n",
        "\n",
        "- **Label Encoding**: Categorical columns `Country/Region` and `WHO Region` are encoded using `LabelEncoder`.\n",
        "\n",
        "- **Continent, Population**: Missing values are imputed using KNN imputation (based on encoded values of `Country/Region` and `WHO Region`).\n",
        "\n",
        "- **NewCases, NewDeaths, TotalRecovered**: Missing values are imputed using KNN imputation.\n",
        "\n",
        "- **Serious,Critical**: Missing values are filled with the median for each `Country/Region`.\n",
        "\n",
        "- **TotalDeaths**: Missing values are forward-filled.\n",
        "\n",
        "- **ActiveCases**: Missing values are computed as the difference between `TotalCases`, `TotalDeaths`, and `TotalRecovered`.\n",
        "\n",
        "- **NewRecovered, Serious,Critical, WHO Region**: Rows with missing values in these columns are dropped.\n",
        "\n",
        "- **Tot Cases/1M pop, Deaths/1M pop**: Missing values are imputed using KNN imputation.\n",
        "\n",
        "- **TotalTests, Tests/1M pop**: Missing values are forward-filled.\n"
      ]
    },
    {
      "cell_type": "code",
      "execution_count": 6,
      "id": "878d8642",
      "metadata": {
        "execution": {
          "iopub.execute_input": "2024-11-30T03:21:55.906151Z",
          "iopub.status.busy": "2024-11-30T03:21:55.905785Z",
          "iopub.status.idle": "2024-11-30T03:21:56.855901Z",
          "shell.execute_reply": "2024-11-30T03:21:56.854527Z"
        },
        "id": "878d8642",
        "outputId": "ca116b03-1ac6-4797-93ec-c7a843e2e3ca",
        "papermill": {
          "duration": 0.959885,
          "end_time": "2024-11-30T03:21:56.858162",
          "exception": false,
          "start_time": "2024-11-30T03:21:55.898277",
          "status": "completed"
        },
        "tags": [],
        "colab": {
          "base_uri": "https://localhost:8080/"
        }
      },
      "outputs": [
        {
          "output_type": "stream",
          "name": "stderr",
          "text": [
            "<ipython-input-6-f9cb4854061d>:11: FutureWarning: Series.fillna with 'method' is deprecated and will raise in a future version. Use obj.ffill() or obj.bfill() instead.\n",
            "  covid_19_clean_complete['WHO Region'] = covid_19_clean_complete.groupby('Country/Region')['WHO Region'].transform(lambda x: x.fillna(method='ffill'))\n",
            "<ipython-input-6-f9cb4854061d>:53: FutureWarning: Series.fillna with 'method' is deprecated and will raise in a future version. Use obj.ffill() or obj.bfill() instead.\n",
            "  worldometer_data['TotalDeaths'] = worldometer_data['TotalDeaths'].fillna(method='ffill')\n",
            "<ipython-input-6-f9cb4854061d>:61: SettingWithCopyWarning: \n",
            "A value is trying to be set on a copy of a slice from a DataFrame.\n",
            "Try using .loc[row_indexer,col_indexer] = value instead\n",
            "\n",
            "See the caveats in the documentation: https://pandas.pydata.org/pandas-docs/stable/user_guide/indexing.html#returning-a-view-versus-a-copy\n",
            "  worldometer_data[['Tot Cases/1M pop', 'Deaths/1M pop']] = imputer.fit_transform(worldometer_data[['Tot Cases/1M pop', 'Deaths/1M pop']])\n",
            "<ipython-input-6-f9cb4854061d>:63: FutureWarning: Series.fillna with 'method' is deprecated and will raise in a future version. Use obj.ffill() or obj.bfill() instead.\n",
            "  worldometer_data['TotalTests'] = worldometer_data['TotalTests'].fillna(method='ffill')\n",
            "<ipython-input-6-f9cb4854061d>:63: SettingWithCopyWarning: \n",
            "A value is trying to be set on a copy of a slice from a DataFrame.\n",
            "Try using .loc[row_indexer,col_indexer] = value instead\n",
            "\n",
            "See the caveats in the documentation: https://pandas.pydata.org/pandas-docs/stable/user_guide/indexing.html#returning-a-view-versus-a-copy\n",
            "  worldometer_data['TotalTests'] = worldometer_data['TotalTests'].fillna(method='ffill')\n",
            "<ipython-input-6-f9cb4854061d>:65: FutureWarning: Series.fillna with 'method' is deprecated and will raise in a future version. Use obj.ffill() or obj.bfill() instead.\n",
            "  worldometer_data['Tests/1M pop'] = worldometer_data['Tests/1M pop'].fillna(method='ffill')\n",
            "<ipython-input-6-f9cb4854061d>:65: SettingWithCopyWarning: \n",
            "A value is trying to be set on a copy of a slice from a DataFrame.\n",
            "Try using .loc[row_indexer,col_indexer] = value instead\n",
            "\n",
            "See the caveats in the documentation: https://pandas.pydata.org/pandas-docs/stable/user_guide/indexing.html#returning-a-view-versus-a-copy\n",
            "  worldometer_data['Tests/1M pop'] = worldometer_data['Tests/1M pop'].fillna(method='ffill')\n"
          ]
        },
        {
          "output_type": "stream",
          "name": "stdout",
          "text": [
            "covid_19_clean_complete missing values after imputation: \n",
            " Province/State    0\n",
            "Country/Region    0\n",
            "Lat               0\n",
            "Long              0\n",
            "Date              0\n",
            "Confirmed         0\n",
            "Deaths            0\n",
            "Recovered         0\n",
            "Active            0\n",
            "WHO Region        0\n",
            "dtype: int64\n",
            "usa_county_wise missing values after imputation: \n",
            " UID               0\n",
            "iso2              0\n",
            "iso3              0\n",
            "code3             0\n",
            "FIPS              0\n",
            "Admin2            0\n",
            "Province_State    0\n",
            "Country_Region    0\n",
            "Lat               0\n",
            "Long_             0\n",
            "Combined_Key      0\n",
            "Date              0\n",
            "Confirmed         0\n",
            "Deaths            0\n",
            "dtype: int64\n",
            "worldometer_data missing values after imputation: \n",
            " Country/Region            0\n",
            "Continent                 0\n",
            "Population                0\n",
            "TotalCases                0\n",
            "NewCases                  0\n",
            "TotalDeaths               0\n",
            "NewDeaths                 0\n",
            "TotalRecovered            0\n",
            "NewRecovered              0\n",
            "ActiveCases               0\n",
            "Serious,Critical          0\n",
            "Tot Cases/1M pop          0\n",
            "Deaths/1M pop             0\n",
            "TotalTests                0\n",
            "Tests/1M pop              0\n",
            "WHO Region                0\n",
            "Country/Region_encoded    0\n",
            "WHO Region_encoded        0\n",
            "dtype: int64\n"
          ]
        }
      ],
      "source": [
        "# 1. covid_19_clean_complete\n",
        "\n",
        "\n",
        "\n",
        "covid_19_clean_complete['Province/State'] = covid_19_clean_complete.groupby('Country/Region')['Province/State'].transform(lambda x: x.fillna(x.mode()[0] if not x.mode().empty else 'Unknown'))\n",
        "\n",
        "imputer = KNNImputer(n_neighbors=5)\n",
        "\n",
        "covid_19_clean_complete[['Confirmed', 'Deaths', 'Recovered', 'Active']] = imputer.fit_transform(covid_19_clean_complete[['Confirmed', 'Deaths', 'Recovered', 'Active']])\n",
        "\n",
        "covid_19_clean_complete['WHO Region'] = covid_19_clean_complete.groupby('Country/Region')['WHO Region'].transform(lambda x: x.fillna(method='ffill'))\n",
        "\n",
        "\n",
        "\n",
        "# 2. usa_county_wise\n",
        "\n",
        "\n",
        "\n",
        "usa_county_wise['Admin2'] = usa_county_wise.groupby('Province_State')['Admin2'].transform(lambda x: x.fillna(x.mode()[0] if not x.mode().empty else 'Unknown'))\n",
        "\n",
        "usa_county_wise.dropna(subset=['FIPS'], inplace=True)\n",
        "\n",
        "\n",
        "\n",
        "# 3. worldometer_data\n",
        "\n",
        "label_encoder_country = LabelEncoder()\n",
        "\n",
        "label_encoder_region = LabelEncoder()\n",
        "\n",
        "\n",
        "\n",
        "worldometer_data['Country/Region_encoded'] = label_encoder_country.fit_transform(worldometer_data['Country/Region'].astype(str))\n",
        "\n",
        "worldometer_data['WHO Region_encoded'] = label_encoder_region.fit_transform(worldometer_data['WHO Region'].astype(str))\n",
        "\n",
        "\n",
        "\n",
        "continent_columns = ['Country/Region_encoded', 'WHO Region_encoded']\n",
        "\n",
        "imputer = KNNImputer(n_neighbors=5)\n",
        "\n",
        "\n",
        "\n",
        "worldometer_data['Continent'] = imputer.fit_transform(worldometer_data[continent_columns])[:, 0]\n",
        "\n",
        "worldometer_data['Population'] = imputer.fit_transform(worldometer_data[['Country/Region_encoded', 'Continent']])[:, 0]\n",
        "\n",
        "worldometer_data[['NewCases', 'NewDeaths', 'TotalRecovered']] = imputer.fit_transform(worldometer_data[['NewCases', 'NewDeaths', 'TotalRecovered']])\n",
        "\n",
        "worldometer_data['Serious,Critical'] = worldometer_data.groupby('Country/Region')['Serious,Critical'].transform(lambda x: x.fillna(x.median() if not x.median() is None else 0))\n",
        "\n",
        "worldometer_data['TotalDeaths'] = worldometer_data['TotalDeaths'].fillna(method='ffill')\n",
        "\n",
        "worldometer_data['Continent'] = label_encoder_country.inverse_transform(worldometer_data['Continent'].astype(int))\n",
        "\n",
        "worldometer_data['ActiveCases'] = worldometer_data['ActiveCases'].fillna(worldometer_data['TotalCases'] - worldometer_data['TotalDeaths'] - worldometer_data['TotalRecovered'])\n",
        "\n",
        "worldometer_data = worldometer_data.dropna(subset=['NewRecovered', 'Serious,Critical', 'WHO Region'])\n",
        "\n",
        "worldometer_data[['Tot Cases/1M pop', 'Deaths/1M pop']] = imputer.fit_transform(worldometer_data[['Tot Cases/1M pop', 'Deaths/1M pop']])\n",
        "\n",
        "worldometer_data['TotalTests'] = worldometer_data['TotalTests'].fillna(method='ffill')\n",
        "\n",
        "worldometer_data['Tests/1M pop'] = worldometer_data['Tests/1M pop'].fillna(method='ffill')\n",
        "\n",
        "\n",
        "\n",
        "print(\"covid_19_clean_complete missing values after imputation: \\n\", covid_19_clean_complete.isnull().sum())\n",
        "\n",
        "print(\"usa_county_wise missing values after imputation: \\n\", usa_county_wise.isnull().sum())\n",
        "\n",
        "print(\"worldometer_data missing values after imputation: \\n\", worldometer_data.isnull().sum())"
      ]
    },
    {
      "cell_type": "markdown",
      "id": "30a2b21b",
      "metadata": {
        "id": "30a2b21b",
        "papermill": {
          "duration": 0.006847,
          "end_time": "2024-11-30T03:21:56.872467",
          "exception": false,
          "start_time": "2024-11-30T03:21:56.865620",
          "status": "completed"
        },
        "tags": []
      },
      "source": [
        "# **Understanding the columns and data types**"
      ]
    },
    {
      "cell_type": "code",
      "execution_count": 7,
      "id": "3381df01",
      "metadata": {
        "execution": {
          "iopub.execute_input": "2024-11-30T03:21:56.888358Z",
          "iopub.status.busy": "2024-11-30T03:21:56.887982Z",
          "iopub.status.idle": "2024-11-30T03:21:56.899939Z",
          "shell.execute_reply": "2024-11-30T03:21:56.898870Z"
        },
        "id": "3381df01",
        "outputId": "96149057-6f3d-4833-ae0c-ef6a6b62f9dd",
        "papermill": {
          "duration": 0.022673,
          "end_time": "2024-11-30T03:21:56.902274",
          "exception": false,
          "start_time": "2024-11-30T03:21:56.879601",
          "status": "completed"
        },
        "tags": [],
        "colab": {
          "base_uri": "https://localhost:8080/"
        }
      },
      "outputs": [
        {
          "output_type": "stream",
          "name": "stdout",
          "text": [
            "data types in country_wise_latest:\n",
            "Country/Region             object\n",
            "Confirmed                   int64\n",
            "Deaths                      int64\n",
            "Recovered                   int64\n",
            "Active                      int64\n",
            "New cases                   int64\n",
            "New deaths                  int64\n",
            "New recovered               int64\n",
            "Deaths / 100 Cases        float64\n",
            "Recovered / 100 Cases     float64\n",
            "Deaths / 100 Recovered    float64\n",
            "Confirmed last week         int64\n",
            "1 week change               int64\n",
            "1 week % increase         float64\n",
            "WHO Region                 object\n",
            "dtype: object \n",
            "\n",
            "data types in covid_19_clean_complete:\n",
            "Province/State     object\n",
            "Country/Region     object\n",
            "Lat               float64\n",
            "Long              float64\n",
            "Date               object\n",
            "Confirmed         float64\n",
            "Deaths            float64\n",
            "Recovered         float64\n",
            "Active            float64\n",
            "WHO Region         object\n",
            "dtype: object \n",
            "\n",
            "data types in day_wise:\n",
            "Date                       object\n",
            "Confirmed                   int64\n",
            "Deaths                      int64\n",
            "Recovered                   int64\n",
            "Active                      int64\n",
            "New cases                   int64\n",
            "New deaths                  int64\n",
            "New recovered               int64\n",
            "Deaths / 100 Cases        float64\n",
            "Recovered / 100 Cases     float64\n",
            "Deaths / 100 Recovered    float64\n",
            "No. of countries            int64\n",
            "dtype: object \n",
            "\n",
            "data types in full_grouped:\n",
            "Date              object\n",
            "Country/Region    object\n",
            "Confirmed          int64\n",
            "Deaths             int64\n",
            "Recovered          int64\n",
            "Active             int64\n",
            "New cases          int64\n",
            "New deaths         int64\n",
            "New recovered      int64\n",
            "WHO Region        object\n",
            "dtype: object \n",
            "\n",
            "data types in usa_county_wise:\n",
            "UID                 int64\n",
            "iso2               object\n",
            "iso3               object\n",
            "code3               int64\n",
            "FIPS              float64\n",
            "Admin2             object\n",
            "Province_State     object\n",
            "Country_Region     object\n",
            "Lat               float64\n",
            "Long_             float64\n",
            "Combined_Key       object\n",
            "Date               object\n",
            "Confirmed           int64\n",
            "Deaths              int64\n",
            "dtype: object \n",
            "\n",
            "data types in worldometer_data:\n",
            "Country/Region             object\n",
            "Continent                  object\n",
            "Population                float64\n",
            "TotalCases                  int64\n",
            "NewCases                  float64\n",
            "TotalDeaths               float64\n",
            "NewDeaths                 float64\n",
            "TotalRecovered            float64\n",
            "NewRecovered              float64\n",
            "ActiveCases               float64\n",
            "Serious,Critical          float64\n",
            "Tot Cases/1M pop          float64\n",
            "Deaths/1M pop             float64\n",
            "TotalTests                float64\n",
            "Tests/1M pop              float64\n",
            "WHO Region                 object\n",
            "Country/Region_encoded      int64\n",
            "WHO Region_encoded          int64\n",
            "dtype: object \n",
            "\n"
          ]
        }
      ],
      "source": [
        "print(\"data types in country_wise_latest:\")\n",
        "\n",
        "print(country_wise_latest.dtypes, \"\\n\")\n",
        "\n",
        "\n",
        "\n",
        "print(\"data types in covid_19_clean_complete:\")\n",
        "\n",
        "print(covid_19_clean_complete.dtypes, \"\\n\")\n",
        "\n",
        "\n",
        "\n",
        "print(\"data types in day_wise:\")\n",
        "\n",
        "print(day_wise.dtypes, \"\\n\")\n",
        "\n",
        "\n",
        "\n",
        "print(\"data types in full_grouped:\")\n",
        "\n",
        "print(full_grouped.dtypes, \"\\n\")\n",
        "\n",
        "\n",
        "\n",
        "print(\"data types in usa_county_wise:\")\n",
        "\n",
        "print(usa_county_wise.dtypes, \"\\n\")\n",
        "\n",
        "\n",
        "\n",
        "print(\"data types in worldometer_data:\")\n",
        "\n",
        "print(worldometer_data.dtypes, \"\\n\")"
      ]
    },
    {
      "cell_type": "markdown",
      "id": "12fa9bf0",
      "metadata": {
        "id": "12fa9bf0",
        "papermill": {
          "duration": 0.007045,
          "end_time": "2024-11-30T03:21:56.917066",
          "exception": false,
          "start_time": "2024-11-30T03:21:56.910021",
          "status": "completed"
        },
        "tags": []
      },
      "source": [
        "\n",
        "\n",
        "\n",
        "\n",
        "---\n",
        "\n",
        "\n"
      ]
    },
    {
      "cell_type": "markdown",
      "id": "bf81f736",
      "metadata": {
        "id": "bf81f736",
        "papermill": {
          "duration": 0.006974,
          "end_time": "2024-11-30T03:21:56.931533",
          "exception": false,
          "start_time": "2024-11-30T03:21:56.924559",
          "status": "completed"
        },
        "tags": []
      },
      "source": [
        "# Converting Date Columns to Datetime"
      ]
    },
    {
      "cell_type": "code",
      "execution_count": 8,
      "id": "b8f01350",
      "metadata": {
        "execution": {
          "iopub.execute_input": "2024-11-30T03:21:56.948102Z",
          "iopub.status.busy": "2024-11-30T03:21:56.947703Z",
          "iopub.status.idle": "2024-11-30T03:21:57.043787Z",
          "shell.execute_reply": "2024-11-30T03:21:57.042644Z"
        },
        "id": "b8f01350",
        "outputId": "7d007fd4-cc5b-4437-dfbc-b3271a0aa5bf",
        "papermill": {
          "duration": 0.107041,
          "end_time": "2024-11-30T03:21:57.046040",
          "exception": false,
          "start_time": "2024-11-30T03:21:56.938999",
          "status": "completed"
        },
        "tags": [],
        "colab": {
          "base_uri": "https://localhost:8080/"
        }
      },
      "outputs": [
        {
          "output_type": "stream",
          "name": "stderr",
          "text": [
            "<ipython-input-8-3eeda0cf61a0>:3: UserWarning: Could not infer format, so each element will be parsed individually, falling back to `dateutil`. To ensure parsing is consistent and as-expected, please specify a format.\n",
            "  usa_county_wise['Date'] = pd.to_datetime(usa_county_wise['Date'])\n"
          ]
        }
      ],
      "source": [
        "covid_19_clean_complete['Date'] = pd.to_datetime(covid_19_clean_complete['Date'])\n",
        "\n",
        "usa_county_wise['Date'] = pd.to_datetime(usa_county_wise['Date'])"
      ]
    },
    {
      "cell_type": "markdown",
      "id": "fb6300ab",
      "metadata": {
        "id": "fb6300ab",
        "papermill": {
          "duration": 0.007082,
          "end_time": "2024-11-30T03:21:57.061287",
          "exception": false,
          "start_time": "2024-11-30T03:21:57.054205",
          "status": "completed"
        },
        "tags": []
      },
      "source": [
        "# Categorical Data Encoding"
      ]
    },
    {
      "cell_type": "code",
      "execution_count": 9,
      "id": "53f507a8",
      "metadata": {
        "execution": {
          "iopub.execute_input": "2024-11-30T03:21:57.078321Z",
          "iopub.status.busy": "2024-11-30T03:21:57.077460Z",
          "iopub.status.idle": "2024-11-30T03:21:57.101221Z",
          "shell.execute_reply": "2024-11-30T03:21:57.100218Z"
        },
        "id": "53f507a8",
        "papermill": {
          "duration": 0.034618,
          "end_time": "2024-11-30T03:21:57.103444",
          "exception": false,
          "start_time": "2024-11-30T03:21:57.068826",
          "status": "completed"
        },
        "tags": []
      },
      "outputs": [],
      "source": [
        "label_encoder = LabelEncoder()\n",
        "\n",
        "covid_19_clean_complete['Country/Region_encoded'] = label_encoder.fit_transform(covid_19_clean_complete['Country/Region'])\n",
        "\n",
        "covid_19_clean_complete['WHO Region_encoded'] = label_encoder.fit_transform(covid_19_clean_complete['WHO Region'])"
      ]
    },
    {
      "cell_type": "markdown",
      "id": "a77cb699",
      "metadata": {
        "id": "a77cb699",
        "papermill": {
          "duration": 0.00727,
          "end_time": "2024-11-30T03:21:57.118726",
          "exception": false,
          "start_time": "2024-11-30T03:21:57.111456",
          "status": "completed"
        },
        "tags": []
      },
      "source": [
        "# Visualizing Outliers Using Boxplots"
      ]
    },
    {
      "cell_type": "code",
      "execution_count": 10,
      "id": "78bd3e78",
      "metadata": {
        "execution": {
          "iopub.execute_input": "2024-11-30T03:21:57.135075Z",
          "iopub.status.busy": "2024-11-30T03:21:57.134352Z",
          "iopub.status.idle": "2024-11-30T03:21:57.502553Z",
          "shell.execute_reply": "2024-11-30T03:21:57.501681Z"
        },
        "id": "78bd3e78",
        "outputId": "428ad684-c3e4-4738-e87e-c3c7eeb60e56",
        "papermill": {
          "duration": 0.379141,
          "end_time": "2024-11-30T03:21:57.505138",
          "exception": false,
          "start_time": "2024-11-30T03:21:57.125997",
          "status": "completed"
        },
        "tags": [],
        "colab": {
          "base_uri": "https://localhost:8080/",
          "height": 545
        }
      },
      "outputs": [
        {
          "output_type": "display_data",
          "data": {
            "text/plain": [
              "<Figure size 1000x600 with 1 Axes>"
            ],
            "image/png": "[encoded data removed]"
          },
          "metadata": {}
        }
      ],
      "source": [
        "plt.figure(figsize=(10, 6))\n",
        "\n",
        "sns.boxplot(data=covid_19_clean_complete[['Confirmed', 'Deaths', 'Recovered', 'Active']])\n",
        "\n",
        "plt.title('Boxplot for Confirmed, Deaths, Recovered, and Active')\n",
        "\n",
        "plt.show()"
      ]
    },
    {
      "cell_type": "markdown",
      "id": "f603e329",
      "metadata": {
        "id": "f603e329",
        "papermill": {
          "duration": 0.007502,
          "end_time": "2024-11-30T03:21:57.520898",
          "exception": false,
          "start_time": "2024-11-30T03:21:57.513396",
          "status": "completed"
        },
        "tags": []
      },
      "source": [
        "# Statistical Detection of Outliers using IQR"
      ]
    },
    {
      "cell_type": "code",
      "execution_count": 11,
      "id": "133305de",
      "metadata": {
        "execution": {
          "iopub.execute_input": "2024-11-30T03:21:57.537993Z",
          "iopub.status.busy": "2024-11-30T03:21:57.537601Z",
          "iopub.status.idle": "2024-11-30T03:21:57.564778Z",
          "shell.execute_reply": "2024-11-30T03:21:57.563605Z"
        },
        "id": "133305de",
        "outputId": "b078c39e-a820-44f8-a2bd-df79319815f8",
        "papermill": {
          "duration": 0.038449,
          "end_time": "2024-11-30T03:21:57.567011",
          "exception": false,
          "start_time": "2024-11-30T03:21:57.528562",
          "status": "completed"
        },
        "tags": [],
        "colab": {
          "base_uri": "https://localhost:8080/"
        }
      },
      "outputs": [
        {
          "output_type": "stream",
          "name": "stdout",
          "text": [
            "outliers in Confirmed Cases: 8817\n",
            "outliers in Deaths: 9077\n",
            "outliers in Recovered Cases: 7936\n",
            "outliers in Active Cases: 8914\n"
          ]
        }
      ],
      "source": [
        "def identify_outliers(df, column):\n",
        "\n",
        "    Q1 = df[column].quantile(0.25)\n",
        "\n",
        "    Q3 = df[column].quantile(0.75)\n",
        "\n",
        "    IQR = Q3 - Q1\n",
        "\n",
        "    lower_bound = Q1 - 1.5 * IQR\n",
        "\n",
        "    upper_bound = Q3 + 1.5 * IQR\n",
        "\n",
        "    outliers = df[(df[column] < lower_bound) | (df[column] > upper_bound)]\n",
        "\n",
        "    return outliers\n",
        "\n",
        "\n",
        "\n",
        "outliers_confirmed = identify_outliers(covid_19_clean_complete, 'Confirmed')\n",
        "\n",
        "outliers_deaths = identify_outliers(covid_19_clean_complete, 'Deaths')\n",
        "\n",
        "outliers_recovered = identify_outliers(covid_19_clean_complete, 'Recovered')\n",
        "\n",
        "outliers_active = identify_outliers(covid_19_clean_complete, 'Active')\n",
        "\n",
        "\n",
        "\n",
        "print(f\"outliers in Confirmed Cases: {outliers_confirmed.shape[0]}\")\n",
        "\n",
        "print(f\"outliers in Deaths: {outliers_deaths.shape[0]}\")\n",
        "\n",
        "print(f\"outliers in Recovered Cases: {outliers_recovered.shape[0]}\")\n",
        "\n",
        "print(f\"outliers in Active Cases: {outliers_active.shape[0]}\")"
      ]
    },
    {
      "cell_type": "markdown",
      "id": "a985f592",
      "metadata": {
        "id": "a985f592",
        "papermill": {
          "duration": 0.007629,
          "end_time": "2024-11-30T03:21:57.582659",
          "exception": false,
          "start_time": "2024-11-30T03:21:57.575030",
          "status": "completed"
        },
        "tags": []
      },
      "source": [
        "# Handling Outliers"
      ]
    },
    {
      "cell_type": "code",
      "execution_count": 12,
      "id": "02baea5c",
      "metadata": {
        "execution": {
          "iopub.execute_input": "2024-11-30T03:21:57.600494Z",
          "iopub.status.busy": "2024-11-30T03:21:57.599740Z",
          "iopub.status.idle": "2024-11-30T03:22:22.565374Z",
          "shell.execute_reply": "2024-11-30T03:22:22.563830Z"
        },
        "id": "02baea5c",
        "papermill": {
          "duration": 24.977401,
          "end_time": "2024-11-30T03:22:22.567937",
          "exception": false,
          "start_time": "2024-11-30T03:21:57.590536",
          "status": "completed"
        },
        "tags": []
      },
      "outputs": [],
      "source": [
        "def replace_outliers(df, column):\n",
        "\n",
        "    Q1 = df[column].quantile(0.25)\n",
        "\n",
        "    Q3 = df[column].quantile(0.75)\n",
        "\n",
        "    IQR = Q3 - Q1\n",
        "\n",
        "    lower_bound = Q1 - 1.5 * IQR\n",
        "\n",
        "    upper_bound = Q3 + 1.5 * IQR\n",
        "\n",
        "    df[column] = df[column].apply(lambda x: df[column].median() if x < lower_bound or x > upper_bound else x)\n",
        "\n",
        "    return df\n",
        "\n",
        "\n",
        "\n",
        "covid_19_clean_complete = replace_outliers(covid_19_clean_complete, 'Confirmed')\n",
        "\n",
        "covid_19_clean_complete = replace_outliers(covid_19_clean_complete, 'Deaths')\n",
        "\n",
        "covid_19_clean_complete = replace_outliers(covid_19_clean_complete, 'Recovered')\n",
        "\n",
        "covid_19_clean_complete = replace_outliers(covid_19_clean_complete, 'Active')"
      ]
    },
    {
      "cell_type": "code",
      "execution_count": null,
      "id": "8e851acc",
      "metadata": {
        "execution": {
          "iopub.execute_input": "2024-11-30T03:22:22.585879Z",
          "iopub.status.busy": "2024-11-30T03:22:22.585501Z",
          "iopub.status.idle": "2024-11-30T03:22:22.856211Z",
          "shell.execute_reply": "2024-11-30T03:22:22.855137Z"
        },
        "id": "8e851acc",
        "outputId": "892f2f73-9dda-40a1-bec6-89d3f869a5b8",
        "papermill": {
          "duration": 0.281893,
          "end_time": "2024-11-30T03:22:22.858181",
          "exception": false,
          "start_time": "2024-11-30T03:22:22.576288",
          "status": "completed"
        },
        "tags": []
      },
      "outputs": [
        {
          "data": {
            "image/png": "[encoded data removed]",
            "text/plain": [
              "<Figure size 1000x600 with 1 Axes>"
            ]
          },
          "metadata": {},
          "output_type": "display_data"
        }
      ],
      "source": [
        "plt.figure(figsize=(10, 6))\n",
        "\n",
        "sns.boxplot(data=covid_19_clean_complete[['Confirmed', 'Deaths', 'Recovered', 'Active']])\n",
        "\n",
        "plt.title('boxplot for Confirmed, Deaths, Recovered, and Active after Handling Outliers')\n",
        "\n",
        "plt.show()"
      ]
    },
    {
      "cell_type": "markdown",
      "id": "32ff49a1",
      "metadata": {
        "id": "32ff49a1",
        "papermill": {
          "duration": 0.008114,
          "end_time": "2024-11-30T03:22:22.875044",
          "exception": false,
          "start_time": "2024-11-30T03:22:22.866930",
          "status": "completed"
        },
        "tags": []
      },
      "source": [
        "\n",
        "\n",
        "\n",
        "\n",
        "---\n",
        "\n",
        "\n"
      ]
    },
    {
      "cell_type": "markdown",
      "id": "2185ea8d",
      "metadata": {
        "id": "2185ea8d",
        "papermill": {
          "duration": 0.008012,
          "end_time": "2024-11-30T03:22:22.891521",
          "exception": false,
          "start_time": "2024-11-30T03:22:22.883509",
          "status": "completed"
        },
        "tags": []
      },
      "source": [
        "# Saving datasets after handling"
      ]
    },
    {
      "cell_type": "code",
      "execution_count": null,
      "id": "bf7f6149",
      "metadata": {
        "execution": {
          "iopub.execute_input": "2024-11-30T03:22:22.910155Z",
          "iopub.status.busy": "2024-11-30T03:22:22.909420Z",
          "iopub.status.idle": "2024-11-30T03:22:27.972242Z",
          "shell.execute_reply": "2024-11-30T03:22:27.971287Z"
        },
        "id": "bf7f6149",
        "outputId": "779ad48a-31e4-45c4-e2a3-c9f9e169a5f1",
        "papermill": {
          "duration": 5.074693,
          "end_time": "2024-11-30T03:22:27.974517",
          "exception": false,
          "start_time": "2024-11-30T03:22:22.899824",
          "status": "completed"
        },
        "tags": []
      },
      "outputs": [
        {
          "name": "stdout",
          "output_type": "stream",
          "text": [
            "Affected datasets have been saved as CSV files.\n"
          ]
        }
      ],
      "source": [
        "covid_19_clean_complete.to_csv('cleaned_covid_19_clean_complete.csv', index=False)\n",
        "\n",
        "\n",
        "\n",
        "usa_county_wise.to_csv('cleaned_usa_county_wise.csv', index=False)\n",
        "\n",
        "\n",
        "\n",
        "worldometer_data.to_csv('cleaned_worldometer_data.csv', index=False)\n",
        "\n",
        "\n",
        "\n",
        "country_wise_latest.to_csv('cleaned_country_wise_latest.csv', index=False)\n",
        "\n",
        "\n",
        "\n",
        "print(\"Affected datasets have been saved as CSV files.\")"
      ]
    },
    {
      "cell_type": "markdown",
      "id": "ab9d8e13",
      "metadata": {
        "id": "ab9d8e13",
        "papermill": {
          "duration": 0.008079,
          "end_time": "2024-11-30T03:22:27.991042",
          "exception": false,
          "start_time": "2024-11-30T03:22:27.982963",
          "status": "completed"
        },
        "tags": []
      },
      "source": [
        "\n",
        "\n",
        "\n",
        "\n",
        "---\n",
        "\n",
        "\n"
      ]
    },
    {
      "cell_type": "markdown",
      "id": "3b02a46e",
      "metadata": {
        "id": "3b02a46e",
        "papermill": {
          "duration": 0.008044,
          "end_time": "2024-11-30T03:22:28.007270",
          "exception": false,
          "start_time": "2024-11-30T03:22:27.999226",
          "status": "completed"
        },
        "tags": []
      },
      "source": [
        "# **Visualization**"
      ]
    },
    {
      "cell_type": "markdown",
      "id": "4ec309a5",
      "metadata": {
        "id": "4ec309a5",
        "papermill": {
          "duration": 0.00809,
          "end_time": "2024-11-30T03:22:28.023501",
          "exception": false,
          "start_time": "2024-11-30T03:22:28.015411",
          "status": "completed"
        },
        "tags": []
      },
      "source": [
        "# visualizations to uncover patterns and trends:"
      ]
    },
    {
      "cell_type": "code",
      "execution_count": null,
      "id": "eeeed3df",
      "metadata": {
        "execution": {
          "iopub.execute_input": "2024-11-30T03:22:28.041522Z",
          "iopub.status.busy": "2024-11-30T03:22:28.041145Z",
          "iopub.status.idle": "2024-11-30T03:22:28.371638Z",
          "shell.execute_reply": "2024-11-30T03:22:28.370628Z"
        },
        "id": "eeeed3df",
        "outputId": "881f2426-8b46-4e5c-e3e5-859712a9dee6",
        "papermill": {
          "duration": 0.342148,
          "end_time": "2024-11-30T03:22:28.373869",
          "exception": false,
          "start_time": "2024-11-30T03:22:28.031721",
          "status": "completed"
        },
        "tags": []
      },
      "outputs": [
        {
          "name": "stderr",
          "output_type": "stream",
          "text": [
            "/opt/conda/lib/python3.10/site-packages/seaborn/_oldcore.py:1119: FutureWarning: use_inf_as_na option is deprecated and will be removed in a future version. Convert inf values to NaN before operating instead.\n",
            "  with pd.option_context('mode.use_inf_as_na', True):\n",
            "/opt/conda/lib/python3.10/site-packages/seaborn/_oldcore.py:1119: FutureWarning: use_inf_as_na option is deprecated and will be removed in a future version. Convert inf values to NaN before operating instead.\n",
            "  with pd.option_context('mode.use_inf_as_na', True):\n"
          ]
        },
        {
          "data": {
            "image/png": "[encoded data removed]",
            "text/plain": [
              "<Figure size 1000x600 with 1 Axes>"
            ]
          },
          "metadata": {},
          "output_type": "display_data"
        }
      ],
      "source": [
        "# Confirmed cases over time for a india\n",
        "\n",
        "plt.figure(figsize=(10, 6))\n",
        "\n",
        "sns.lineplot(x='Date', y='Confirmed', data=covid_19_clean_complete[covid_19_clean_complete['Country/Region'] == 'India'])\n",
        "\n",
        "plt.title('Confirmed Cases Over Time - India')\n",
        "\n",
        "plt.show()"
      ]
    },
    {
      "cell_type": "code",
      "execution_count": null,
      "id": "ee62ccc5",
      "metadata": {
        "execution": {
          "iopub.execute_input": "2024-11-30T03:22:28.393505Z",
          "iopub.status.busy": "2024-11-30T03:22:28.393158Z",
          "iopub.status.idle": "2024-11-30T03:22:28.651603Z",
          "shell.execute_reply": "2024-11-30T03:22:28.650557Z"
        },
        "id": "ee62ccc5",
        "outputId": "8254e36e-adfc-49a3-924b-88a3d512f76a",
        "papermill": {
          "duration": 0.270275,
          "end_time": "2024-11-30T03:22:28.653594",
          "exception": false,
          "start_time": "2024-11-30T03:22:28.383319",
          "status": "completed"
        },
        "tags": []
      },
      "outputs": [
        {
          "data": {
            "image/png": "[encoded data removed]",
            "text/plain": [
              "<Figure size 1000x600 with 2 Axes>"
            ]
          },
          "metadata": {},
          "output_type": "display_data"
        }
      ],
      "source": [
        "plt.figure(figsize=(10, 6))\n",
        "\n",
        "sns.heatmap(covid_19_clean_complete[['Confirmed', 'Deaths', 'Recovered', 'Active']].corr(), annot=True, cmap='coolwarm')\n",
        "\n",
        "plt.title('Correlation Matrix')\n",
        "\n",
        "plt.show()"
      ]
    },
    {
      "cell_type": "markdown",
      "id": "c3687659",
      "metadata": {
        "id": "c3687659",
        "papermill": {
          "duration": 0.010105,
          "end_time": "2024-11-30T03:22:28.673638",
          "exception": false,
          "start_time": "2024-11-30T03:22:28.663533",
          "status": "completed"
        },
        "tags": []
      },
      "source": [
        "\n",
        "\n",
        "\n",
        "\n",
        "---\n",
        "\n",
        "\n"
      ]
    }
  ],
  "metadata": {
    "colab": {
      "provenance": []
    },
    "kaggle": {
      "accelerator": "none",
      "dataSources": [
        {
          "datasetId": 494766,
          "sourceId": 1402868,
          "sourceType": "datasetVersion"
        },
        {
          "datasetId": 6195518,
          "sourceId": 10054783,
          "sourceType": "datasetVersion"
        }
      ],
      "dockerImageVersionId": 30786,
      "isGpuEnabled": false,
      "isInternetEnabled": true,
      "language": "python",
      "sourceType": "notebook"
    },
    "kernelspec": {
      "display_name": "Python 3",
      "language": "python",
      "name": "python3"
    },
    "language_info": {
      "codemirror_mode": {
        "name": "ipython",
        "version": 3
      },
      "file_extension": ".py",
      "mimetype": "text/x-python",
      "name": "python",
      "nbconvert_exporter": "python",
      "pygments_lexer": "ipython3",
      "version": "3.10.14"
    },
    "papermill": {
      "default_parameters": {},
      "duration": 42.078173,
      "end_time": "2024-11-30T03:22:29.304932",
      "environment_variables": {},
      "exception": null,
      "input_path": "__notebook__.ipynb",
      "output_path": "__notebook__.ipynb",
      "parameters": {},
      "start_time": "2024-11-30T03:21:47.226759",
      "version": "2.6.0"
    }
  },
  "nbformat": 4,
  "nbformat_minor": 5
}